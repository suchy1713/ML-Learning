{
  "nbformat": 4,
  "nbformat_minor": 0,
  "metadata": {
    "colab": {
      "name": "autoencoder_tf.ipynb",
      "provenance": [],
      "collapsed_sections": [],
      "authorship_tag": "ABX9TyNAs7hHOFXUE+sFI6hQsRDf"
    },
    "kernelspec": {
      "name": "python3",
      "display_name": "Python 3"
    },
    "accelerator": "GPU"
  },
  "cells": [
    {
      "cell_type": "code",
      "metadata": {
        "id": "tz6yEjMFocUL",
        "colab_type": "code",
        "colab": {}
      },
      "source": [
        "import numpy as np\n",
        "import tensorflow as tf\n",
        "from sklearn.utils import shuffle\n",
        "import matplotlib.pyplot as plt\n",
        "\n",
        "def error_rate(y, p):\n",
        "    return np.mean(y != p)\n",
        "\n",
        "class AutoEncoder(object):\n",
        "    def __init__(self, D, M, id):\n",
        "        self.id = id\n",
        "        self.build(D, M)\n",
        "\n",
        "    def set_session(self, session):\n",
        "        self.session = session\n",
        "\n",
        "    def build(self, D, M):\n",
        "        self.W = tf.Variable(tf.random_normal(shape=(D, M)))\n",
        "        self.bh = tf.Variable(np.zeros(M).astype(np.float32))\n",
        "        self.bo = tf.Variable(np.zeros(D).astype(np.float32))\n",
        "\n",
        "        self.X_in = tf.placeholder(tf.float32, shape=(None, D))\n",
        "        self.Z = self.forward_hidden(self.X_in)\n",
        "        self.X_hat = self.forward_output(self.X_in)\n",
        "\n",
        "        logits = self.forward_logits(self.X_in)\n",
        "        self.cost = tf.reduce_mean(\n",
        "            tf.nn.sigmoid_cross_entropy_with_logits(logits=logits, labels=self.X_in)\n",
        "        )\n",
        "        self.train_op = tf.train.AdamOptimizer(1e-1).minimize(self.cost)\n",
        "\n",
        "    def fit(self, X, epochs=1, batch_sz=100, show_fig=True):\n",
        "        N, D = X.shape\n",
        "        n_batches = N//batch_sz\n",
        "\n",
        "        costs = []\n",
        "        print('fitting autoencoder ', self.id)\n",
        "        for i in range(epochs):\n",
        "            print('epoch ', i+1, end=' ')\n",
        "            X = shuffle(X)\n",
        "            for j in range(n_batches):\n",
        "                batch = X[j*batch_sz:(j*batch_sz + batch_sz)]\n",
        "                _, c = self.session.run((self.train_op, self.cost), feed_dict={self.X_in: batch})\n",
        "                costs.append(c)\n",
        "\n",
        "            print('Cost: ', c)\n",
        "\n",
        "        if show_fig:\n",
        "            plt.plot(costs)\n",
        "            plt.show()\n",
        "\n",
        "    def forward_hidden(self, X):\n",
        "        return tf.nn.sigmoid(tf.matmul(X, self.W) + self.bh)\n",
        "    \n",
        "    def forward_logits(self, X):\n",
        "        Z = self.forward_hidden(X)\n",
        "        return tf.matmul(Z, tf.transpose(self.W)) + self.bo\n",
        "\n",
        "    def forward_output(self, X):\n",
        "        return tf.nn.sigmoid(self.forward_logits(X))\n",
        "\n",
        "    def transform(self, X):\n",
        "        return self.session.run(self.Z, feed_dict={self.X_in: X})\n",
        "\n",
        "    def predict(self, X):\n",
        "        return self.session.run(self.X_hat, feed_dict={self.X_in: X})\n",
        "\n",
        "class StackedAE(object):\n",
        "    def __init__(self, D, hidden_layer_sizes, K):\n",
        "        self.hidden_layers = []\n",
        "        count = 0\n",
        "        current_input = D\n",
        "        for hl_size in hidden_layer_sizes:\n",
        "            self.hidden_layers.append(AutoEncoder(current_input, hl_size, count))\n",
        "            count += 1\n",
        "            current_input = hl_size\n",
        "        self.build_final_layer(D, hidden_layer_sizes[-1], K)\n",
        "\n",
        "    def set_session(self, session):\n",
        "        self.session = session\n",
        "\n",
        "        for ae in self.hidden_layers:\n",
        "            ae.set_session(session)\n",
        "\n",
        "    def build_final_layer(self, D, M, K):\n",
        "        self.W = tf.Variable(tf.random_normal(shape=(M, K)))\n",
        "        self.b = tf.Variable(np.zeros(K).astype(np.float32))\n",
        "\n",
        "        self.X = tf.placeholder(tf.float32, shape=(None, D))\n",
        "        self.Y = tf.placeholder(tf.int32, shape=(None,))\n",
        "        logits = self.forward(self.X)\n",
        "\n",
        "        self.cost = tf.reduce_mean(\n",
        "            tf.nn.sparse_softmax_cross_entropy_with_logits(logits=logits, labels=self.Y)\n",
        "        )\n",
        "        self.train_op = tf.train.AdamOptimizer(1e-2).minimize(self.cost)\n",
        "        self.predict_op = tf.argmax(logits, axis=1)\n",
        "\n",
        "    def fit(self, x_train, y_train, x_test, y_test, epochs=1, batch_sz=100, show_fig=True):\n",
        "        current_input = x_train\n",
        "        for ae in self.hidden_layers:\n",
        "            ae.fit(current_input, epochs=2, show_fig=False)\n",
        "            current_input = ae.transform(current_input)\n",
        "        \n",
        "        N, D = x_train.shape\n",
        "        n_batches = N//batch_sz\n",
        "\n",
        "        costs = []\n",
        "        print('supervised training: ')\n",
        "        for i in range(epochs):\n",
        "            print('epoch ', i+1, end=' ')\n",
        "            x_train, y_train = shuffle(x_train, y_train)\n",
        "            for j in range(n_batches):\n",
        "                x_batch = x_train[j*batch_sz:(j*batch_sz + batch_sz)]\n",
        "                y_batch = y_train[j*batch_sz:(j*batch_sz + batch_sz)]\n",
        "                self.session.run(self.train_op, feed_dict={self.X: x_batch, self.Y: y_batch})\n",
        "                c, p = self.session.run((self.cost, self.predict_op), feed_dict={self.X: x_test, self.Y: y_test})\n",
        "                costs.append(c)\n",
        "\n",
        "            print('Cost: ', c, ' Error rate: ', error_rate(p, y_test))\n",
        "\n",
        "        if show_fig:\n",
        "            plt.plot(costs)\n",
        "            plt.show()\n",
        "\n",
        "    def forward(self, X):\n",
        "        current_input = X\n",
        "        for ae in self.hidden_layers:\n",
        "            Z = ae.forward_hidden(current_input)\n",
        "            current_input = Z\n",
        "\n",
        "        return tf.matmul(Z, self.W) + self.b"
      ],
      "execution_count": 0,
      "outputs": []
    },
    {
      "cell_type": "code",
      "metadata": {
        "id": "8ZlPfV7vsdjM",
        "colab_type": "code",
        "colab": {}
      },
      "source": [
        "from keras.datasets import mnist\n",
        "(x_train, y_train), (x_test, y_test) = mnist.load_data()\n",
        "x_train, x_test = x_train, x_test\n",
        "x_train = x_train.astype('float32') / 255.\n",
        "x_test = x_test.astype('float32') / 255.\n",
        "x_train = x_train.reshape((len(x_train), np.prod(x_train.shape[1:])))\n",
        "x_test = x_test.reshape((len(x_test), np.prod(x_test.shape[1:])))"
      ],
      "execution_count": 0,
      "outputs": []
    },
    {
      "cell_type": "code",
      "metadata": {
        "id": "fe4RGD7NshRr",
        "colab_type": "code",
        "colab": {
          "base_uri": "https://localhost:8080/",
          "height": 1000
        },
        "outputId": "8ea9cf2e-cf72-4efd-d9f2-cf29ddd47679"
      },
      "source": [
        "ae = AutoEncoder(x_train.shape[1], 300, 0)\n",
        "init_op = tf.global_variables_initializer()\n",
        "with tf.Session() as session:\n",
        "    session.run(init_op)\n",
        "    ae.set_session(session)\n",
        "    ae.fit(x_train, epochs=1)\n",
        "\n",
        "    done=False\n",
        "    while not done:\n",
        "        i = np.random.choice(len(x_test))\n",
        "        x = x_test[i]\n",
        "        y = ae.predict([x])\n",
        "        plt.subplot(1, 2, 1)\n",
        "        plt.imshow(x.reshape(28, 28), cmap='gray')\n",
        "        plt.title('Original')\n",
        "        \n",
        "        plt.subplot(1, 2, 2)\n",
        "        plt.imshow(y.reshape(28, 28), cmap='gray')\n",
        "        plt.title('Reconstructed')\n",
        "\n",
        "        plt.show()\n",
        "\n",
        "        ans = input(\"Generate another? (y/n)\")\n",
        "        if ans and ans[0] in ('n' or 'N'):\n",
        "            done = True"
      ],
      "execution_count": 32,
      "outputs": [
        {
          "output_type": "stream",
          "text": [
            "fitting autoencoder  0\n",
            "epoch  1 Cost:  0.1172932\n"
          ],
          "name": "stdout"
        },
        {
          "output_type": "display_data",
          "data": {
            "image/png": "[encoded data removed]",
            "text/plain": [
              "<Figure size 432x288 with 1 Axes>"
            ]
          },
          "metadata": {
            "tags": []
          }
        },
        {
          "output_type": "display_data",
          "data": {
            "image/png": "[encoded data removed]",
            "text/plain": [
              "<Figure size 432x288 with 2 Axes>"
            ]
          },
          "metadata": {
            "tags": []
          }
        },
        {
          "output_type": "stream",
          "text": [
            "Generate another? (y/n)y\n"
          ],
          "name": "stdout"
        },
        {
          "output_type": "display_data",
          "data": {
            "image/png": "[encoded data removed]",
            "text/plain": [
              "<Figure size 432x288 with 2 Axes>"
            ]
          },
          "metadata": {
            "tags": []
          }
        },
        {
          "output_type": "stream",
          "text": [
            "Generate another? (y/n)y\n"
          ],
          "name": "stdout"
        },
        {
          "output_type": "display_data",
          "data": {
            "image/png": "[encoded data removed]",
            "text/plain": [
              "<Figure size 432x288 with 2 Axes>"
            ]
          },
          "metadata": {
            "tags": []
          }
        },
        {
          "output_type": "stream",
          "text": [
            "Generate another? (y/n)y\n"
          ],
          "name": "stdout"
        },
        {
          "output_type": "display_data",
          "data": {
            "image/png": "[encoded data removed]",
            "text/plain": [
              "<Figure size 432x288 with 2 Axes>"
            ]
          },
          "metadata": {
            "tags": []
          }
        },
        {
          "output_type": "stream",
          "text": [
            "Generate another? (y/n)y\n"
          ],
          "name": "stdout"
        },
        {
          "output_type": "display_data",
          "data": {
            "image/png": "[encoded data removed]",
            "text/plain": [
              "<Figure size 432x288 with 2 Axes>"
            ]
          },
          "metadata": {
            "tags": []
          }
        },
        {
          "output_type": "stream",
          "text": [
            "Generate another? (y/n)n\n"
          ],
          "name": "stdout"
        }
      ]
    },
    {
      "cell_type": "code",
      "metadata": {
        "id": "ECuI-OjXI4s6",
        "colab_type": "code",
        "colab": {
          "base_uri": "https://localhost:8080/",
          "height": 520
        },
        "outputId": "48f1d5ee-a95d-4fe3-a960-a9ad09f7e818"
      },
      "source": [
        "D = x_train.shape[1]\n",
        "K = len(set(y_train))\n",
        "dnn = StackedAE(D, [1000, 750, 500], K)\n",
        "\n",
        "init_op = tf.global_variables_initializer()\n",
        "with tf.Session() as session:\n",
        "    session.run(init_op)\n",
        "    dnn.set_session(session)\n",
        "    dnn.fit(x_train, y_train, x_test, y_test, epochs=5)"
      ],
      "execution_count": 31,
      "outputs": [
        {
          "output_type": "stream",
          "text": [
            "fitting autoencoder  0\n",
            "epoch  1 Cost:  0.109392114\n",
            "epoch  2 Cost:  0.10701842\n",
            "fitting autoencoder  1\n",
            "epoch  1 Cost:  0.016266419\n",
            "epoch  2 Cost:  0.016695486\n",
            "fitting autoencoder  2\n",
            "epoch  1 Cost:  0.089083865\n",
            "epoch  2 Cost:  0.08588259\n",
            "supervised training: \n",
            "epoch  1 Cost:  0.19483924  Error rate:  0.0617\n",
            "epoch  2 Cost:  0.12720652  Error rate:  0.0377\n",
            "epoch  3 Cost:  0.12819338  Error rate:  0.037\n",
            "epoch  4 Cost:  0.13076632  Error rate:  0.037\n",
            "epoch  5 Cost:  0.12301515  Error rate:  0.0351\n"
          ],
          "name": "stdout"
        },
        {
          "output_type": "display_data",
          "data": {
            "image/png": "[encoded data removed]",
            "text/plain": [
              "<Figure size 432x288 with 1 Axes>"
            ]
          },
          "metadata": {
            "tags": []
          }
        }
      ]
    }
  ]
}