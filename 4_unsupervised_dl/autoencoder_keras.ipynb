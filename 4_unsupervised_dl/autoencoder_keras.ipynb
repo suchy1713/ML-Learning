{
  "nbformat": 4,
  "nbformat_minor": 0,
  "metadata": {
    "colab": {
      "name": "autoencoder_keras.ipynb",
      "provenance": [],
      "authorship_tag": "ABX9TyPXjftI5fjTOEBPKQ4hnkKY"
    },
    "kernelspec": {
      "name": "python3",
      "display_name": "Python 3"
    },
    "accelerator": "GPU"
  },
  "cells": [
    {
      "cell_type": "code",
      "metadata": {
        "id": "NA_OW4uPUciP",
        "colab_type": "code",
        "colab": {}
      },
      "source": [
        "from keras.layers import Input, Dense\n",
        "from keras.models import Model\n",
        "\n",
        "encoding_dim = 32\n",
        "\n",
        "input_img = Input(shape=(784,))\n",
        "encoded = Dense(encoding_dim, activation='relu')(input_img)\n",
        "decoded = Dense(784, activation='sigmoid')(encoded)\n",
        "autoencoder = Model(input_img, decoded)\n",
        "encoder = Model(input_img, encoded)\n",
        "\n",
        "encoded_input = Input(shape=(encoding_dim,))\n",
        "decoded_layer = autoencoder.layers[-1]\n",
        "decoder = Model(encoded_input, decoded_layer(encoded_input))\n",
        "\n",
        "autoencoder.compile(optimizer='adadelta', loss='binary_crossentropy')"
      ],
      "execution_count": 0,
      "outputs": []
    },
    {
      "cell_type": "code",
      "metadata": {
        "id": "Wye7Bxo2WiT5",
        "colab_type": "code",
        "colab": {}
      },
      "source": [
        "from keras.datasets import mnist\n",
        "import numpy as np\n",
        "\n",
        "(x_train, _), (x_test, _) = mnist.load_data()\n",
        "x_train, x_test = x_train, x_test\n",
        "x_train = x_train.astype('float32') / 255.\n",
        "x_test = x_test.astype('float32') / 255.\n",
        "x_train = x_train.reshape((len(x_train), np.prod(x_train.shape[1:])))\n",
        "x_test = x_test.reshape((len(x_test), np.prod(x_test.shape[1:])))"
      ],
      "execution_count": 0,
      "outputs": []
    },
    {
      "cell_type": "code",
      "metadata": {
        "id": "k388n1GwW1FV",
        "colab_type": "code",
        "colab": {
          "base_uri": "https://localhost:8080/",
          "height": 1000
        },
        "outputId": "723daf2e-96d3-431d-ec0a-42652cea8fac"
      },
      "source": [
        "import matplotlib.pyplot as plt\n",
        "\n",
        "output = autoencoder.fit(x_train, x_train,\n",
        "                epochs=50,\n",
        "                batch_size=256,\n",
        "                shuffle=True,\n",
        "                validation_data=(x_test, x_test))\n",
        "\n",
        "plt.plot(output.history['loss'], label='Train loss')\n",
        "plt.plot(output.history['val_loss'], label='Validation loss')\n",
        "plt.legend()\n",
        "plt.show()"
      ],
      "execution_count": 22,
      "outputs": [
        {
          "output_type": "stream",
          "text": [
            "Train on 60000 samples, validate on 10000 samples\n",
            "Epoch 1/50\n",
            "60000/60000 [==============================] - 1s 20us/step - loss: 0.3610 - val_loss: 0.2709\n",
            "Epoch 2/50\n",
            "60000/60000 [==============================] - 1s 17us/step - loss: 0.2632 - val_loss: 0.2517\n",
            "Epoch 3/50\n",
            "60000/60000 [==============================] - 1s 16us/step - loss: 0.2424 - val_loss: 0.2308\n",
            "Epoch 4/50\n",
            "60000/60000 [==============================] - 1s 17us/step - loss: 0.2234 - val_loss: 0.2132\n",
            "Epoch 5/50\n",
            "60000/60000 [==============================] - 1s 17us/step - loss: 0.2078 - val_loss: 0.1995\n",
            "Epoch 6/50\n",
            "60000/60000 [==============================] - 1s 17us/step - loss: 0.1956 - val_loss: 0.1888\n",
            "Epoch 7/50\n",
            "60000/60000 [==============================] - 1s 17us/step - loss: 0.1861 - val_loss: 0.1805\n",
            "Epoch 8/50\n",
            "60000/60000 [==============================] - 1s 18us/step - loss: 0.1786 - val_loss: 0.1739\n",
            "Epoch 9/50\n",
            "60000/60000 [==============================] - 1s 17us/step - loss: 0.1726 - val_loss: 0.1683\n",
            "Epoch 10/50\n",
            "60000/60000 [==============================] - 1s 17us/step - loss: 0.1674 - val_loss: 0.1637\n",
            "Epoch 11/50\n",
            "60000/60000 [==============================] - 1s 17us/step - loss: 0.1629 - val_loss: 0.1593\n",
            "Epoch 12/50\n",
            "60000/60000 [==============================] - 1s 18us/step - loss: 0.1589 - val_loss: 0.1555\n",
            "Epoch 13/50\n",
            "60000/60000 [==============================] - 1s 17us/step - loss: 0.1553 - val_loss: 0.1521\n",
            "Epoch 14/50\n",
            "60000/60000 [==============================] - 1s 18us/step - loss: 0.1520 - val_loss: 0.1489\n",
            "Epoch 15/50\n",
            "60000/60000 [==============================] - 1s 17us/step - loss: 0.1489 - val_loss: 0.1460\n",
            "Epoch 16/50\n",
            "60000/60000 [==============================] - 1s 17us/step - loss: 0.1462 - val_loss: 0.1434\n",
            "Epoch 17/50\n",
            "60000/60000 [==============================] - 1s 19us/step - loss: 0.1436 - val_loss: 0.1408\n",
            "Epoch 18/50\n",
            "60000/60000 [==============================] - 1s 19us/step - loss: 0.1413 - val_loss: 0.1385\n",
            "Epoch 19/50\n",
            "60000/60000 [==============================] - 1s 18us/step - loss: 0.1391 - val_loss: 0.1365\n",
            "Epoch 20/50\n",
            "60000/60000 [==============================] - 1s 18us/step - loss: 0.1370 - val_loss: 0.1344\n",
            "Epoch 21/50\n",
            "60000/60000 [==============================] - 1s 17us/step - loss: 0.1350 - val_loss: 0.1324\n",
            "Epoch 22/50\n",
            "60000/60000 [==============================] - 1s 17us/step - loss: 0.1331 - val_loss: 0.1305\n",
            "Epoch 23/50\n",
            "60000/60000 [==============================] - 1s 17us/step - loss: 0.1312 - val_loss: 0.1287\n",
            "Epoch 24/50\n",
            "60000/60000 [==============================] - 1s 18us/step - loss: 0.1294 - val_loss: 0.1269\n",
            "Epoch 25/50\n",
            "60000/60000 [==============================] - 1s 18us/step - loss: 0.1277 - val_loss: 0.1252\n",
            "Epoch 26/50\n",
            "60000/60000 [==============================] - 1s 18us/step - loss: 0.1260 - val_loss: 0.1235\n",
            "Epoch 27/50\n",
            "60000/60000 [==============================] - 1s 17us/step - loss: 0.1244 - val_loss: 0.1220\n",
            "Epoch 28/50\n",
            "60000/60000 [==============================] - 1s 17us/step - loss: 0.1229 - val_loss: 0.1205\n",
            "Epoch 29/50\n",
            "60000/60000 [==============================] - 1s 18us/step - loss: 0.1214 - val_loss: 0.1191\n",
            "Epoch 30/50\n",
            "60000/60000 [==============================] - 1s 17us/step - loss: 0.1200 - val_loss: 0.1176\n",
            "Epoch 31/50\n",
            "60000/60000 [==============================] - 1s 17us/step - loss: 0.1186 - val_loss: 0.1163\n",
            "Epoch 32/50\n",
            "60000/60000 [==============================] - 1s 17us/step - loss: 0.1173 - val_loss: 0.1151\n",
            "Epoch 33/50\n",
            "60000/60000 [==============================] - 1s 17us/step - loss: 0.1161 - val_loss: 0.1139\n",
            "Epoch 34/50\n",
            "60000/60000 [==============================] - 1s 17us/step - loss: 0.1149 - val_loss: 0.1127\n",
            "Epoch 35/50\n",
            "60000/60000 [==============================] - 1s 17us/step - loss: 0.1138 - val_loss: 0.1117\n",
            "Epoch 36/50\n",
            "60000/60000 [==============================] - 1s 17us/step - loss: 0.1127 - val_loss: 0.1107\n",
            "Epoch 37/50\n",
            "60000/60000 [==============================] - 1s 17us/step - loss: 0.1118 - val_loss: 0.1097\n",
            "Epoch 38/50\n",
            "60000/60000 [==============================] - 1s 17us/step - loss: 0.1108 - val_loss: 0.1088\n",
            "Epoch 39/50\n",
            "60000/60000 [==============================] - 1s 17us/step - loss: 0.1100 - val_loss: 0.1080\n",
            "Epoch 40/50\n",
            "60000/60000 [==============================] - 1s 17us/step - loss: 0.1092 - val_loss: 0.1072\n",
            "Epoch 41/50\n",
            "60000/60000 [==============================] - 1s 17us/step - loss: 0.1084 - val_loss: 0.1065\n",
            "Epoch 42/50\n",
            "60000/60000 [==============================] - 1s 17us/step - loss: 0.1077 - val_loss: 0.1058\n",
            "Epoch 43/50\n",
            "60000/60000 [==============================] - 1s 17us/step - loss: 0.1071 - val_loss: 0.1052\n",
            "Epoch 44/50\n",
            "60000/60000 [==============================] - 1s 18us/step - loss: 0.1065 - val_loss: 0.1046\n",
            "Epoch 45/50\n",
            "60000/60000 [==============================] - 1s 19us/step - loss: 0.1059 - val_loss: 0.1041\n",
            "Epoch 46/50\n",
            "60000/60000 [==============================] - 1s 17us/step - loss: 0.1054 - val_loss: 0.1036\n",
            "Epoch 47/50\n",
            "60000/60000 [==============================] - 1s 17us/step - loss: 0.1049 - val_loss: 0.1031\n",
            "Epoch 48/50\n",
            "60000/60000 [==============================] - 1s 17us/step - loss: 0.1044 - val_loss: 0.1027\n",
            "Epoch 49/50\n",
            "60000/60000 [==============================] - 1s 17us/step - loss: 0.1040 - val_loss: 0.1022\n",
            "Epoch 50/50\n",
            "60000/60000 [==============================] - 1s 17us/step - loss: 0.1036 - val_loss: 0.1019\n"
          ],
          "name": "stdout"
        },
        {
          "output_type": "display_data",
          "data": {
            "image/png": "[encoded data removed]",
            "text/plain": [
              "<Figure size 432x288 with 1 Axes>"
            ]
          },
          "metadata": {
            "tags": []
          }
        }
      ]
    },
    {
      "cell_type": "code",
      "metadata": {
        "id": "Vg6WNlvcXhn4",
        "colab_type": "code",
        "colab": {
          "base_uri": "https://localhost:8080/",
          "height": 666
        },
        "outputId": "bd9b043a-99e6-4553-8324-b307875929a3"
      },
      "source": [
        "done = False\n",
        "while not done:\n",
        "    i = np.random.choice(len(x_test))\n",
        "    x = x_test[i]\n",
        "    y = decoder.predict(encoder.predict(x.reshape(1,784)))\n",
        "    plt.subplot(1, 2, 1)\n",
        "    plt.imshow(x.reshape(28, 28), cmap='gray')\n",
        "    plt.title('Original')\n",
        "    \n",
        "    plt.subplot(1, 2, 2)\n",
        "    plt.imshow(y.reshape(28, 28), cmap='gray')\n",
        "    plt.title('Reconstructed')\n",
        "\n",
        "    plt.show()\n",
        "\n",
        "    ans = input(\"Generate another? (y/n)\")\n",
        "    if ans and ans[0] in ('n' or 'N'):\n",
        "        done = True"
      ],
      "execution_count": 23,
      "outputs": [
        {
          "output_type": "display_data",
          "data": {
            "image/png": "[encoded data removed]",
            "text/plain": [
              "<Figure size 432x288 with 2 Axes>"
            ]
          },
          "metadata": {
            "tags": []
          }
        },
        {
          "output_type": "stream",
          "text": [
            "Generate another? (y/n)y\n"
          ],
          "name": "stdout"
        },
        {
          "output_type": "display_data",
          "data": {
            "image/png": "[encoded data removed]",
            "text/plain": [
              "<Figure size 432x288 with 2 Axes>"
            ]
          },
          "metadata": {
            "tags": []
          }
        },
        {
          "output_type": "stream",
          "text": [
            "Generate another? (y/n)y\n"
          ],
          "name": "stdout"
        },
        {
          "output_type": "display_data",
          "data": {
            "image/png": "[encoded data removed]",
            "text/plain": [
              "<Figure size 432x288 with 2 Axes>"
            ]
          },
          "metadata": {
            "tags": []
          }
        },
        {
          "output_type": "stream",
          "text": [
            "Generate another? (y/n)n\n"
          ],
          "name": "stdout"
        }
      ]
    }
  ]
}