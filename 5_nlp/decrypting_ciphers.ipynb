{
  "nbformat": 4,
  "nbformat_minor": 0,
  "metadata": {
    "colab": {
      "name": "decrypting_ciphers.ipynb",
      "provenance": [],
      "collapsed_sections": [],
      "authorship_tag": "ABX9TyNl5jdP5zdpPUmbpHg5LRaq"
    },
    "kernelspec": {
      "name": "python3",
      "display_name": "Python 3"
    }
  },
  "cells": [
    {
      "cell_type": "code",
      "metadata": {
        "id": "SPmSfxIXRarR",
        "colab_type": "code",
        "colab": {}
      },
      "source": [
        "import numpy as np\n",
        "\n",
        "moby = open('moby_dick.txt', 'r')\n",
        "train_data = moby.read()\n",
        "moby.close()\n",
        "\n",
        "letters = np.array(list((np.arange(65, 91)).astype(np.uint8).tostring().decode(\"ascii\")))\n",
        "\n",
        "message = preprocess_text('''I then lounged down the street and found,\n",
        "as I expected, that there was a mews in a lane which runs down\n",
        "by one wall of the garden. I lent the ostlers a hand in rubbing\n",
        "down their horses, and received in exchange twopence, a glass of\n",
        "half-and-half, two fills of shag tobacco, and as much information\n",
        "as I could desire about Miss Adler, to say nothing of half a dozen\n",
        "other people in the neighbourhood in whom I was not in the least\n",
        "interested, but whose biographies I was compelled to listen to.\n",
        "''')"
      ],
      "execution_count": 0,
      "outputs": []
    },
    {
      "cell_type": "code",
      "metadata": {
        "id": "hWb_w0-iUBLX",
        "colab_type": "code",
        "colab": {}
      },
      "source": [
        "import re\n",
        "\n",
        "def generate_random_cipher(letters):\n",
        "    return dict(zip(letters, np.random.permutation(letters)))\n",
        "\n",
        "def preprocess_text(text):\n",
        "    text = text.upper()\n",
        "    regex = re.compile('[^a-zA-Z]')\n",
        "    text = regex.sub('', text)\n",
        "    return text\n",
        "\n",
        "def bigrams_list(letters):\n",
        "    bigrams = []\n",
        "    for i in range(len(letters)):\n",
        "        for j in range(len(letters)):\n",
        "            bigrams.append(letters[i] + letters[j])\n",
        "\n",
        "    return bigrams\n",
        "\n",
        "def create_language_model(text, letters):\n",
        "    unigrams = dict(zip(letters, np.zeros(len(letters), dtype=int)))\n",
        "    size = len(text)\n",
        "    for c in text:\n",
        "        unigrams[c] += 1\n",
        "\n",
        "    unigrams_proba = dict(zip(letters, np.zeros(len(letters), dtype=int)))\n",
        "    for key in unigrams_proba:    \n",
        "        unigrams_proba[key] = unigrams[key]/size\n",
        "    \n",
        "    bigrams_l = bigrams_list(letters)\n",
        "    bigrams = dict(zip(bigrams_l, np.zeros(len(bigrams_l), dtype=int)))\n",
        "    for i in range(len(text) - 1):\n",
        "        bigram = text[i] + text[i+1]\n",
        "        bigrams[bigram] += 1\n",
        "\n",
        "    bigrams_proba = dict(zip(bigrams_l, np.zeros(len(bigrams_l), dtype=int)))\n",
        "    for key, value in bigrams_proba.items():    \n",
        "        A = key[0]\n",
        "        B = key[1]\n",
        "        bigrams_proba[key] = (bigrams[key]+1)/(unigrams[B]+len(letters))\n",
        "\n",
        "    return unigrams_proba, bigrams_proba\n",
        "\n",
        "def log_likelihood(message, unigrams, bigrams):\n",
        "    log_l = np.log(unigrams[message[0]])\n",
        "    for i in range(1, len(message)):\n",
        "        log_l += np.log(bigrams[message[i-1] + message[i]])\n",
        "\n",
        "    return log_l\n",
        "\n",
        "def encode(cipher, message):\n",
        "    message = list(message)\n",
        "    for i in range(len(message)):\n",
        "        message[i] = cipher[message[i]]\n",
        "\n",
        "    return ''.join(message)\n",
        "\n",
        "def decode(cipher, message):\n",
        "    message = list(message)\n",
        "    for i in range(len(message)):\n",
        "        message[i] = list(cipher.keys())[list(cipher.values()).index(message[i])]\n",
        "\n",
        "    return ''.join(message)"
      ],
      "execution_count": 0,
      "outputs": []
    },
    {
      "cell_type": "code",
      "metadata": {
        "id": "nc7kegSoUSoq",
        "colab_type": "code",
        "colab": {
          "base_uri": "https://localhost:8080/",
          "height": 71
        },
        "outputId": "98de811a-5b46-46a8-8cb3-6789674f3b52"
      },
      "source": [
        "t = preprocess_text(train_data)\n",
        "unigrams, bigrams = create_language_model(t, letters)"
      ],
      "execution_count": 112,
      "outputs": [
        {
          "output_type": "stream",
          "text": [
            "SYFNTAPZTENUUPDTYFNWYGNNYLTUVPZTULWSNOJNRYNUYFLYYFNGNDLWLKNDWSTLALTNDFSRFGZTWUPDTBHPTNDLAAPVYFNELGUNTSANTYYFNPWYANGWLFLTUSTGZBBSTEUPDTYFNSGFPGWNWLTUGNRNSINUSTNORFLTENYDPJNTRNLEALWWPVFLAVLTUFLAVYDPVSAAWPVWFLEYPBLRRPLTULWKZRFSTVPGKLYSPTLWSRPZAUUNWSGNLBPZYKSWWLUANGYPWLHTPYFSTEPVFLAVLUPQNTPYFNGJNPJANSTYFNTNSEFBPZGFPPUSTDFPKSDLWTPYSTYFNANLWYSTYNGNWYNUBZYDFPWNBSPEGLJFSNWSDLWRPKJNAANUYPASWYNTYP\n",
            "ITHENLOUNGEDDOWNTHESTREETANDFOUNDASIEXPECTEDTHATTHEREWASAMEWSINALANEWHICHRUNSDOWNBYONEWALLOFTHEGARDENILENTTHEOSTLERSAHANDINRUBBINGDOWNTHEIRHORSESANDRECEIVEDINEXCHANGETWOPENCEAGLASSOFHALFANDHALFTWOFILLSOFSHAGTOBACCOANDASMUCHINFORMATIONASICOULDDESIREABOUTMISSADLERTOSAYNOTHINGOFHALFADOZENOTHERPEOPLEINTHENEIGHBOURHOODINWHOMIWASNOTINTHELEASTINTERESTEDBUTWHOSEBIOGRAPHIESIWASCOMPELLEDTOLISTENTO\n"
          ],
          "name": "stdout"
        }
      ]
    }
  ]
}