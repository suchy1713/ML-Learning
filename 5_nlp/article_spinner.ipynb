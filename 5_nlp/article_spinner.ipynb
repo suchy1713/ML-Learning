{
  "nbformat": 4,
  "nbformat_minor": 0,
  "metadata": {
    "colab": {
      "name": "article_spinner.ipynb",
      "provenance": [],
      "authorship_tag": "ABX9TyOz4M41NkczPsOzVoPcau48"
    },
    "kernelspec": {
      "name": "python3",
      "display_name": "Python 3"
    }
  },
  "cells": [
    {
      "cell_type": "code",
      "metadata": {
        "id": "2yEBnF655LzY",
        "colab_type": "code",
        "colab": {}
      },
      "source": [
        "import nltk\n",
        "from nltk import word_tokenize\n",
        "import numpy as np\n",
        "from bs4 import BeautifulSoup\n",
        "\n",
        "positive_reviews = BeautifulSoup(open('positive.review').read())\n",
        "positive_reviews = positive_reviews.findAll('review_text')"
      ],
      "execution_count": 0,
      "outputs": []
    },
    {
      "cell_type": "code",
      "metadata": {
        "id": "7417a_mx8Wi9",
        "colab_type": "code",
        "colab": {}
      },
      "source": [
        "trigrams = {}\n",
        "i = 0\n",
        "for review in positive_reviews:\n",
        "    tokens = nltk.tokenize.word_tokenize(review.text.lower())\n",
        "    for i in range(len(tokens) - 2):\n",
        "        k = (tokens[i], tokens[i+2])\n",
        "        if k not in trigrams:\n",
        "            trigrams[k] = []\n",
        "        trigrams[k].append(tokens[i+1])"
      ],
      "execution_count": 0,
      "outputs": []
    },
    {
      "cell_type": "code",
      "metadata": {
        "id": "vUacQkHX_616",
        "colab_type": "code",
        "colab": {}
      },
      "source": [
        "trigram_probabilities = {}\n",
        "\n",
        "for k, words in trigrams.items():\n",
        "    if len(set(words)) > 1:\n",
        "        d = {}\n",
        "        n = 0\n",
        "        for w in words:\n",
        "            if w not in d:\n",
        "                d[w] = 0\n",
        "            d[w] += 1\n",
        "            n += 1\n",
        "        \n",
        "        for word, count in d.items():\n",
        "            d[word] = float(count)/n\n",
        "        \n",
        "        trigram_probabilities[k] = d"
      ],
      "execution_count": 0,
      "outputs": []
    },
    {
      "cell_type": "code",
      "metadata": {
        "id": "bsiq8fqgAy9e",
        "colab_type": "code",
        "colab": {}
      },
      "source": [
        "def random_sample(words):\n",
        "    return np.random.choice(list(trigram_probabilities[words].keys()), p=list(trigram_probabilities[words].values()))"
      ],
      "execution_count": 0,
      "outputs": []
    },
    {
      "cell_type": "code",
      "metadata": {
        "id": "3IACvWx4BdP4",
        "colab_type": "code",
        "colab": {
          "base_uri": "https://localhost:8080/",
          "height": 139
        },
        "outputId": "075e4ab1-d92a-4d05-8ada-edde6c0fb5dc"
      },
      "source": [
        "import random\n",
        "\n",
        "review = random.choice(positive_reviews).text.lower()\n",
        "print('ORIGINAL: \\n', review)\n",
        "\n",
        "tokens = nltk.tokenize.word_tokenize(review)\n",
        "for i in range(len(tokens)-2):\n",
        "    if random.random() < 0.4:\n",
        "        k = (tokens[i], tokens[i+2])\n",
        "        if k in trigram_probabilities:\n",
        "            tokens[i+1] = random_sample(k)\n",
        "\n",
        "print('SPINNED: \\n', \" \".join(tokens))"
      ],
      "execution_count": 50,
      "outputs": [
        {
          "output_type": "stream",
          "text": [
            "ORIGINAL: \n",
            " \n",
            "the product is a good value.   it performed well and was fairly easy to use. i only wish it would allow importing play lists from itunes, all text had to be manually input.  overall, i'm very satisfied with the product\n",
            "\n",
            "SPINNED: \n",
            " the product is a good value . it as dvd and was so prior to use . i only wish it would allow importing play lists from 1973/1974 , all i had to be manually input . overall , i 'm very pleased with the product\n"
          ],
          "name": "stdout"
        }
      ]
    }
  ]
}