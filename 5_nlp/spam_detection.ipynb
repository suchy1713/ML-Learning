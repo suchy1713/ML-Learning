{
  "nbformat": 4,
  "nbformat_minor": 0,
  "metadata": {
    "colab": {
      "name": "spam_detection.ipynb",
      "provenance": [],
      "toc_visible": true,
      "authorship_tag": "ABX9TyMpKDPi9N+j+dJhMfvQ4S8T"
    },
    "kernelspec": {
      "name": "python3",
      "display_name": "Python 3"
    }
  },
  "cells": [
    {
      "cell_type": "code",
      "metadata": {
        "id": "r6ZmvDptNmKs",
        "colab_type": "code",
        "outputId": "31ef6905-ee37-429b-e380-42197707aeca",
        "colab": {
          "base_uri": "https://localhost:8080/",
          "height": 255
        }
      },
      "source": [
        "import pandas as pd\n",
        "\n",
        "df = pd.read_csv('spambase.data', header=None)\n",
        "\n",
        "X = df.drop(columns=[57])\n",
        "y = df[57]\n",
        "\n",
        "print(X.head())\n",
        "print(y.head())"
      ],
      "execution_count": 0,
      "outputs": [
        {
          "output_type": "stream",
          "text": [
            "     0     1     2    3     4     5   ...     51     52     53     54   55    56\n",
            "0  0.00  0.64  0.64  0.0  0.32  0.00  ...  0.778  0.000  0.000  3.756   61   278\n",
            "1  0.21  0.28  0.50  0.0  0.14  0.28  ...  0.372  0.180  0.048  5.114  101  1028\n",
            "2  0.06  0.00  0.71  0.0  1.23  0.19  ...  0.276  0.184  0.010  9.821  485  2259\n",
            "3  0.00  0.00  0.00  0.0  0.63  0.00  ...  0.137  0.000  0.000  3.537   40   191\n",
            "4  0.00  0.00  0.00  0.0  0.63  0.00  ...  0.135  0.000  0.000  3.537   40   191\n",
            "\n",
            "[5 rows x 57 columns]\n",
            "0    1\n",
            "1    1\n",
            "2    1\n",
            "3    1\n",
            "4    1\n",
            "Name: 57, dtype: int64\n"
          ],
          "name": "stdout"
        }
      ]
    },
    {
      "cell_type": "code",
      "metadata": {
        "id": "fts6gLT6ONND",
        "colab_type": "code",
        "outputId": "5f438699-ceef-4632-c43f-a5b0f7e5b513",
        "colab": {
          "base_uri": "https://localhost:8080/",
          "height": 34
        }
      },
      "source": [
        "from sklearn.naive_bayes import MultinomialNB\n",
        "from sklearn.utils import shuffle\n",
        "from sklearn.model_selection import train_test_split\n",
        "\n",
        "X, y = shuffle(X, y)\n",
        "X_train, X_test, y_train, y_test = train_test_split(X, y, test_size=0.33)\n",
        "\n",
        "brain = MultinomialNB()\n",
        "brain.fit(X_train, y_train)\n",
        "\n",
        "print(brain.score(X_test, y_test))"
      ],
      "execution_count": 0,
      "outputs": [
        {
          "output_type": "stream",
          "text": [
            "0.7899934167215273\n"
          ],
          "name": "stdout"
        }
      ]
    },
    {
      "cell_type": "code",
      "metadata": {
        "id": "9AZYmMTDO_yW",
        "colab_type": "code",
        "outputId": "71433da5-3ab9-466f-c488-5a42c904bbe0",
        "colab": {
          "base_uri": "https://localhost:8080/",
          "height": 34
        }
      },
      "source": [
        "from sklearn.ensemble import RandomForestClassifier\n",
        "\n",
        "brain = RandomForestClassifier()\n",
        "brain.fit(X_train, y_train)\n",
        "\n",
        "print(brain.score(X_test, y_test))"
      ],
      "execution_count": 0,
      "outputs": [
        {
          "output_type": "stream",
          "text": [
            "0.9466754443712969\n"
          ],
          "name": "stdout"
        }
      ]
    },
    {
      "cell_type": "code",
      "metadata": {
        "id": "NDuGtU8QPMSa",
        "colab_type": "code",
        "outputId": "8ad9a933-32c8-4072-ece7-cba28e9b32a2",
        "colab": {
          "base_uri": "https://localhost:8080/",
          "height": 34
        }
      },
      "source": [
        "from sklearn.ensemble import AdaBoostClassifier\n",
        "\n",
        "brain = AdaBoostClassifier()\n",
        "brain.fit(X_train, y_train)\n",
        "\n",
        "print(brain.score(X_test, y_test))"
      ],
      "execution_count": 0,
      "outputs": [
        {
          "output_type": "stream",
          "text": [
            "0.9354838709677419\n"
          ],
          "name": "stdout"
        }
      ]
    },
    {
      "cell_type": "code",
      "metadata": {
        "id": "m-9YFIacQCFw",
        "colab_type": "code",
        "colab": {
          "base_uri": "https://localhost:8080/",
          "height": 204
        },
        "outputId": "f6f6028e-621b-4c18-e8a8-92bbbb7daa91"
      },
      "source": [
        "#SMS SPAM DETECTION\n",
        "import pandas as pd\n",
        "\n",
        "df = pd.read_csv('spam.csv', encoding = \"ISO-8859-1\")\n",
        "\n",
        "df.head()"
      ],
      "execution_count": 7,
      "outputs": [
        {
          "output_type": "execute_result",
          "data": {
            "text/html": [
              "<div>\n",
              "<style scoped>\n",
              "    .dataframe tbody tr th:only-of-type {\n",
              "        vertical-align: middle;\n",
              "    }\n",
              "\n",
              "    .dataframe tbody tr th {\n",
              "        vertical-align: top;\n",
              "    }\n",
              "\n",
              "    .dataframe thead th {\n",
              "        text-align: right;\n",
              "    }\n",
              "</style>\n",
              "<table border=\"1\" class=\"dataframe\">\n",
              "  <thead>\n",
              "    <tr style=\"text-align: right;\">\n",
              "      <th></th>\n",
              "      <th>v1</th>\n",
              "      <th>v2</th>\n",
              "      <th>Unnamed: 2</th>\n",
              "      <th>Unnamed: 3</th>\n",
              "      <th>Unnamed: 4</th>\n",
              "    </tr>\n",
              "  </thead>\n",
              "  <tbody>\n",
              "    <tr>\n",
              "      <th>0</th>\n",
              "      <td>ham</td>\n",
              "      <td>Go until jurong point, crazy.. Available only ...</td>\n",
              "      <td>NaN</td>\n",
              "      <td>NaN</td>\n",
              "      <td>NaN</td>\n",
              "    </tr>\n",
              "    <tr>\n",
              "      <th>1</th>\n",
              "      <td>ham</td>\n",
              "      <td>Ok lar... Joking wif u oni...</td>\n",
              "      <td>NaN</td>\n",
              "      <td>NaN</td>\n",
              "      <td>NaN</td>\n",
              "    </tr>\n",
              "    <tr>\n",
              "      <th>2</th>\n",
              "      <td>spam</td>\n",
              "      <td>Free entry in 2 a wkly comp to win FA Cup fina...</td>\n",
              "      <td>NaN</td>\n",
              "      <td>NaN</td>\n",
              "      <td>NaN</td>\n",
              "    </tr>\n",
              "    <tr>\n",
              "      <th>3</th>\n",
              "      <td>ham</td>\n",
              "      <td>U dun say so early hor... U c already then say...</td>\n",
              "      <td>NaN</td>\n",
              "      <td>NaN</td>\n",
              "      <td>NaN</td>\n",
              "    </tr>\n",
              "    <tr>\n",
              "      <th>4</th>\n",
              "      <td>ham</td>\n",
              "      <td>Nah I don't think he goes to usf, he lives aro...</td>\n",
              "      <td>NaN</td>\n",
              "      <td>NaN</td>\n",
              "      <td>NaN</td>\n",
              "    </tr>\n",
              "  </tbody>\n",
              "</table>\n",
              "</div>"
            ],
            "text/plain": [
              "     v1  ... Unnamed: 4\n",
              "0   ham  ...        NaN\n",
              "1   ham  ...        NaN\n",
              "2  spam  ...        NaN\n",
              "3   ham  ...        NaN\n",
              "4   ham  ...        NaN\n",
              "\n",
              "[5 rows x 5 columns]"
            ]
          },
          "metadata": {
            "tags": []
          },
          "execution_count": 7
        }
      ]
    },
    {
      "cell_type": "code",
      "metadata": {
        "id": "TRM9V_pFQnl0",
        "colab_type": "code",
        "colab": {
          "base_uri": "https://localhost:8080/",
          "height": 221
        },
        "outputId": "b3e9bb71-8e7f-4295-93fa-8cbf86cebe58"
      },
      "source": [
        "X = df['v2']\n",
        "y = df['v1'].replace('ham', 0).replace('spam', 1)\n",
        "\n",
        "print(X.head())\n",
        "print(y.head())"
      ],
      "execution_count": 8,
      "outputs": [
        {
          "output_type": "stream",
          "text": [
            "0    Go until jurong point, crazy.. Available only ...\n",
            "1                        Ok lar... Joking wif u oni...\n",
            "2    Free entry in 2 a wkly comp to win FA Cup fina...\n",
            "3    U dun say so early hor... U c already then say...\n",
            "4    Nah I don't think he goes to usf, he lives aro...\n",
            "Name: v2, dtype: object\n",
            "0    0\n",
            "1    0\n",
            "2    1\n",
            "3    0\n",
            "4    0\n",
            "Name: v1, dtype: int64\n"
          ],
          "name": "stdout"
        }
      ]
    },
    {
      "cell_type": "code",
      "metadata": {
        "id": "azB-Yk2cQ0kz",
        "colab_type": "code",
        "colab": {
          "base_uri": "https://localhost:8080/",
          "height": 884
        },
        "outputId": "44dc4e1b-0675-43d9-b6a4-be0b4954cd61"
      },
      "source": [
        "from sklearn.feature_extraction.text import TfidfVectorizer\n",
        "\n",
        "vectorizer = TfidfVectorizer()\n",
        "X = vectorizer.fit_transform(X.values)\n",
        "\n",
        "print(X)"
      ],
      "execution_count": 9,
      "outputs": [
        {
          "output_type": "stream",
          "text": [
            "  (0, 8267)\t0.18238655630689804\n",
            "  (0, 1069)\t0.3264252905795869\n",
            "  (0, 3594)\t0.15318864840197105\n",
            "  (0, 7645)\t0.15566431601878158\n",
            "  (0, 2048)\t0.2757654045621182\n",
            "  (0, 1749)\t0.3116082237740733\n",
            "  (0, 4476)\t0.2757654045621182\n",
            "  (0, 8489)\t0.22080132794235655\n",
            "  (0, 3634)\t0.1803175103691124\n",
            "  (0, 1751)\t0.2757654045621182\n",
            "  (0, 4087)\t0.10720385321563428\n",
            "  (0, 5537)\t0.15618023117358304\n",
            "  (0, 1303)\t0.24415547176756056\n",
            "  (0, 2327)\t0.25279391746019725\n",
            "  (0, 5920)\t0.2553151503985779\n",
            "  (0, 4350)\t0.3264252905795869\n",
            "  (0, 8030)\t0.22998520738984352\n",
            "  (0, 3550)\t0.1481298737377147\n",
            "  (1, 5533)\t0.5465881710238072\n",
            "  (1, 8392)\t0.4316010362639011\n",
            "  (1, 4318)\t0.5236458071582338\n",
            "  (1, 4512)\t0.4082988561907181\n",
            "  (1, 5504)\t0.27211951321382544\n",
            "  (2, 77)\t0.23012628226525952\n",
            "  (2, 1156)\t0.16541257593676326\n",
            "  :\t:\n",
            "  (5570, 1786)\t0.2829205787072918\n",
            "  (5570, 3470)\t0.2752778321471703\n",
            "  (5570, 2892)\t0.24400995680638932\n",
            "  (5570, 7049)\t0.20534386872930602\n",
            "  (5570, 1778)\t0.1366456751602606\n",
            "  (5570, 8065)\t0.20880862098597563\n",
            "  (5570, 2592)\t0.1845863450431389\n",
            "  (5570, 5334)\t0.21003730857873565\n",
            "  (5570, 1438)\t0.1429585509124154\n",
            "  (5570, 7627)\t0.10242646659763288\n",
            "  (5570, 3308)\t0.12172172618634512\n",
            "  (5570, 7039)\t0.18426763178390448\n",
            "  (5570, 4615)\t0.15965529817341642\n",
            "  (5570, 1084)\t0.11225268140936365\n",
            "  (5570, 8313)\t0.18723687600522526\n",
            "  (5570, 4218)\t0.1224661019112692\n",
            "  (5570, 3781)\t0.17077863975758362\n",
            "  (5570, 7756)\t0.0837337985706596\n",
            "  (5570, 3358)\t0.15948934578787605\n",
            "  (5570, 4087)\t0.11172931760302046\n",
            "  (5571, 6505)\t0.5565029307246047\n",
            "  (5571, 7885)\t0.4275291317643216\n",
            "  (5571, 4225)\t0.5773238083586979\n",
            "  (5571, 5244)\t0.3900900272638623\n",
            "  (5571, 7756)\t0.14849350328973987\n"
          ],
          "name": "stdout"
        }
      ]
    },
    {
      "cell_type": "code",
      "metadata": {
        "id": "BudGbr5HR9r0",
        "colab_type": "code",
        "colab": {
          "base_uri": "https://localhost:8080/",
          "height": 34
        },
        "outputId": "2c579bdd-fb74-49c1-f3d2-2fb632145e40"
      },
      "source": [
        "from sklearn.ensemble import AdaBoostClassifier\n",
        "from sklearn.model_selection import train_test_split\n",
        "\n",
        "X_train, X_test, y_train, y_test = train_test_split(X, y, test_size=0.33)\n",
        "brain = AdaBoostClassifier()\n",
        "brain.fit(X_train, y_train)\n",
        "\n",
        "print(brain.score(X_test, y_test))"
      ],
      "execution_count": 11,
      "outputs": [
        {
          "output_type": "stream",
          "text": [
            "0.9700924415443176\n"
          ],
          "name": "stdout"
        }
      ]
    }
  ]
}