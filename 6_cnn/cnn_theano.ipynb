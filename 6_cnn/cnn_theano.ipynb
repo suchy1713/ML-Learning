{
  "nbformat": 4,
  "nbformat_minor": 0,
  "metadata": {
    "colab": {
      "name": "cnn_theano.ipynb",
      "provenance": [],
      "collapsed_sections": [],
      "authorship_tag": "ABX9TyOCXQ05QMyNwLS6HtOr/maV"
    },
    "kernelspec": {
      "name": "python3",
      "display_name": "Python 3"
    },
    "accelerator": "GPU"
  },
  "cells": [
    {
      "cell_type": "code",
      "metadata": {
        "id": "dvlLFbIph44a",
        "colab_type": "code",
        "colab": {}
      },
      "source": [
        "import numpy as np\n",
        "import theano\n",
        "import theano.tensor as T\n",
        "import matplotlib.pyplot as plt\n",
        "from theano.tensor.nnet import conv2d, relu, softmax\n",
        "from theano.tensor.signal import pool\n",
        "from sklearn.utils import shuffle\n",
        "\n",
        "def error_rate(y, t):\n",
        "    return np.mean(y != t)\n",
        "\n",
        "def convpool(X, W, b, poolsize=(2, 2)):\n",
        "    conv_out = conv2d(input=X, filters=W)\n",
        "    pool_out = pool.pool_2d(input=conv_out, ws=poolsize, ignore_border=True)\n",
        "    return relu(pool_out + b.dimshuffle('x', 0, 'x', 'x'))\n",
        "\n",
        "def init_weights(shape, poolsize):\n",
        "    W = np.random.randn(*shape) * np.sqrt(2/np.prod(shape[1:]))\n",
        "    return W.astype(np.float32)"
      ],
      "execution_count": 0,
      "outputs": []
    },
    {
      "cell_type": "code",
      "metadata": {
        "id": "BAZkFQuunOi2",
        "colab_type": "code",
        "colab": {
          "base_uri": "https://localhost:8080/",
          "height": 114
        },
        "outputId": "12dbb141-cc05-47ce-dd49-347025f65282"
      },
      "source": [
        "from keras.datasets import mnist\n",
        "from keras.utils import to_categorical\n",
        "\n",
        "(X_train, y_train), (X_test, y_test) = mnist.load_data()\n",
        "X_train = (X_train.reshape(60000, 1, 28, 28)/255).astype(np.float32)\n",
        "X_test = (X_test.reshape(10000, 1, 28, 28)/255).astype(np.float32)"
      ],
      "execution_count": 3,
      "outputs": [
        {
          "output_type": "stream",
          "text": [
            "Using TensorFlow backend.\n"
          ],
          "name": "stderr"
        },
        {
          "output_type": "display_data",
          "data": {
            "text/html": [
              "<p style=\"color: red;\">\n",
              "The default version of TensorFlow in Colab will soon switch to TensorFlow 2.x.<br>\n",
              "We recommend you <a href=\"https://www.tensorflow.org/guide/migrate\" target=\"_blank\">upgrade</a> now \n",
              "or ensure your notebook will continue to use TensorFlow 1.x via the <code>%tensorflow_version 1.x</code> magic:\n",
              "<a href=\"https://colab.research.google.com/notebooks/tensorflow_version.ipynb\" target=\"_blank\">more info</a>.</p>\n"
            ],
            "text/plain": [
              "<IPython.core.display.HTML object>"
            ]
          },
          "metadata": {
            "tags": []
          }
        },
        {
          "output_type": "stream",
          "text": [
            "Downloading data from https://s3.amazonaws.com/img-datasets/mnist.npz\n",
            "11493376/11490434 [==============================] - 1s 0us/step\n"
          ],
          "name": "stdout"
        }
      ]
    },
    {
      "cell_type": "code",
      "metadata": {
        "id": "DMmy9Kz_ockh",
        "colab_type": "code",
        "colab": {
          "base_uri": "https://localhost:8080/",
          "height": 1000
        },
        "outputId": "aee0f222-3566-423d-c11b-7f5a4a17a18a"
      },
      "source": [
        "epochs = 3\n",
        "lr = np.float32(1e-2)\n",
        "mu = np.float32(1 - 1e-2)\n",
        "\n",
        "batch_sz = 500\n",
        "n_batches = X_train.shape[0]//batch_sz\n",
        "\n",
        "M = 400\n",
        "K = 10\n",
        "poolsize = (2, 2)\n",
        "\n",
        "#Convpool layers\n",
        "W1_init = init_weights((32, 1, 5, 5), poolsize)\n",
        "b1_init = np.zeros(32, dtype=np.float32)\n",
        "W2_init = init_weights((64, 32, 5, 5), poolsize)\n",
        "b2_init = np.zeros(64, dtype=np.float32)\n",
        "\n",
        "#ANN layers\n",
        "W3_init = (np.random.randn(64*4*4, M) / np.sqrt(64*4*4 + M)).astype(np.float32)\n",
        "b3_init = np.zeros(M, dtype=np.float32)\n",
        "W4_init = (np.random.randn(M, K) / np.sqrt(M + K)).astype(np.float32)\n",
        "b4_init = np.zeros(K, dtype=np.float32)\n",
        "\n",
        "X = T.tensor4('X', dtype='float32')\n",
        "Y = T.ivector('y')\n",
        "\n",
        "W1 = theano.shared(W1_init, 'W1')\n",
        "b1 = theano.shared(b1_init, 'b1')\n",
        "W2 = theano.shared(W2_init, 'W2')\n",
        "b2 = theano.shared(b2_init, 'b2')\n",
        "W3 = theano.shared(W3_init, 'W3')\n",
        "b3 = theano.shared(b3_init, 'b3')\n",
        "W4 = theano.shared(W4_init, 'W4')\n",
        "b4 = theano.shared(b4_init, 'b4')\n",
        "\n",
        "Z1 = convpool(X, W1, b1, poolsize)\n",
        "Z2 = convpool(Z1, W2, b2, poolsize)\n",
        "Z3 = relu(Z2.flatten(ndim=2).dot(W3) + b3)\n",
        "pY = softmax(Z3.dot(W4) + b4)\n",
        "\n",
        "cost = -(T.log(pY[T.arange(Y.shape[0]), Y])).mean()\n",
        "pred = T.argmax(pY, axis=1)\n",
        "\n",
        "params = [W1, b1, W2, b2, W3, b3, W4, b4]\n",
        "dparams = [theano.shared(np.zeros_like(p.get_value(), dtype=np.float32)) for p in params]\n",
        "\n",
        "grads = T.grad(cost, params)\n",
        "updates = [(dp, mu*dp - lr*g) for dp, g in zip (dparams, grads)] + [(p, p+dp) for p, dp in zip(params, dparams)]\n",
        "\n",
        "train = theano.function(\n",
        "    inputs=[X, Y],\n",
        "    updates=updates\n",
        ")\n",
        "\n",
        "prediction = theano.function(\n",
        "    inputs=[X, Y],\n",
        "    outputs=[cost, pred]\n",
        ")\n",
        "\n",
        "costs = []\n",
        "for i in range(epochs):\n",
        "    for j in range(n_batches):\n",
        "        X_batch = X_train[j*batch_sz:(j*batch_sz + batch_sz)]\n",
        "        y_batch = y_train[j*batch_sz:(j*batch_sz + batch_sz)]\n",
        "\n",
        "        train(X_batch, y_batch)\n",
        "        cost_val, pred_val = prediction(X_test, y_test)\n",
        "        costs.append(cost_val)\n",
        "        if (i+1)*(j+1) % 10 == 0:\n",
        "            print('Epoch: ', i+1, ' Step: ', (i+1)*(j+1), '/', (epochs+1)*(n_batches+1), ' Cost: ', cost_val, ' Error %: ', error_rate(pred_val, y_test))\n",
        "\n",
        "plt.plot(costs)\n",
        "plt.show()"
      ],
      "execution_count": 7,
      "outputs": [
        {
          "output_type": "stream",
          "text": [
            "Epoch:  1  Step:  10 / 484  Cost:  1.7249504  Error %:  0.4136\n",
            "Epoch:  1  Step:  20 / 484  Cost:  1.756068  Error %:  0.5197\n",
            "Epoch:  1  Step:  30 / 484  Cost:  1.8294035  Error %:  0.6201\n",
            "Epoch:  1  Step:  40 / 484  Cost:  1.2705159  Error %:  0.3559\n",
            "Epoch:  1  Step:  50 / 484  Cost:  0.64716816  Error %:  0.227\n",
            "Epoch:  1  Step:  60 / 484  Cost:  1.8214833  Error %:  0.2606\n",
            "Epoch:  1  Step:  70 / 484  Cost:  0.8641532  Error %:  0.292\n",
            "Epoch:  1  Step:  80 / 484  Cost:  0.657473  Error %:  0.1932\n",
            "Epoch:  1  Step:  90 / 484  Cost:  0.7683007  Error %:  0.2184\n",
            "Epoch:  1  Step:  100 / 484  Cost:  1.0573548  Error %:  0.1882\n",
            "Epoch:  1  Step:  110 / 484  Cost:  0.44335082  Error %:  0.1289\n",
            "Epoch:  1  Step:  120 / 484  Cost:  0.64225703  Error %:  0.2193\n",
            "Epoch:  2  Step:  10 / 484  Cost:  0.4389738  Error %:  0.1465\n",
            "Epoch:  2  Step:  20 / 484  Cost:  0.38385913  Error %:  0.1098\n",
            "Epoch:  2  Step:  30 / 484  Cost:  0.32074416  Error %:  0.0881\n",
            "Epoch:  2  Step:  40 / 484  Cost:  0.41648746  Error %:  0.1154\n",
            "Epoch:  2  Step:  50 / 484  Cost:  0.487437  Error %:  0.125\n",
            "Epoch:  2  Step:  60 / 484  Cost:  0.35914645  Error %:  0.0885\n",
            "Epoch:  2  Step:  70 / 484  Cost:  0.4298577  Error %:  0.1034\n",
            "Epoch:  2  Step:  80 / 484  Cost:  0.3469367  Error %:  0.091\n",
            "Epoch:  2  Step:  90 / 484  Cost:  0.4283435  Error %:  0.1117\n",
            "Epoch:  2  Step:  100 / 484  Cost:  0.3234976  Error %:  0.0896\n",
            "Epoch:  2  Step:  110 / 484  Cost:  0.49351713  Error %:  0.119\n",
            "Epoch:  2  Step:  120 / 484  Cost:  0.22361313  Error %:  0.0649\n",
            "Epoch:  2  Step:  130 / 484  Cost:  1.0189139  Error %:  0.2461\n",
            "Epoch:  2  Step:  140 / 484  Cost:  0.24758582  Error %:  0.0742\n",
            "Epoch:  2  Step:  150 / 484  Cost:  0.5090409  Error %:  0.13\n",
            "Epoch:  2  Step:  160 / 484  Cost:  0.6259178  Error %:  0.1393\n",
            "Epoch:  2  Step:  170 / 484  Cost:  0.410752  Error %:  0.1087\n",
            "Epoch:  2  Step:  180 / 484  Cost:  0.5416786  Error %:  0.1353\n",
            "Epoch:  2  Step:  190 / 484  Cost:  0.4787269  Error %:  0.116\n",
            "Epoch:  2  Step:  200 / 484  Cost:  0.34458008  Error %:  0.0939\n",
            "Epoch:  2  Step:  210 / 484  Cost:  0.4006598  Error %:  0.1057\n",
            "Epoch:  2  Step:  220 / 484  Cost:  0.42568833  Error %:  0.1187\n",
            "Epoch:  2  Step:  230 / 484  Cost:  0.35623038  Error %:  0.1061\n",
            "Epoch:  2  Step:  240 / 484  Cost:  0.31696275  Error %:  0.0972\n",
            "Epoch:  3  Step:  30 / 484  Cost:  0.30956888  Error %:  0.0928\n",
            "Epoch:  3  Step:  60 / 484  Cost:  0.33356568  Error %:  0.1032\n",
            "Epoch:  3  Step:  90 / 484  Cost:  0.29440203  Error %:  0.0839\n",
            "Epoch:  3  Step:  120 / 484  Cost:  0.3188681  Error %:  0.0798\n",
            "Epoch:  3  Step:  150 / 484  Cost:  0.2786462  Error %:  0.0764\n",
            "Epoch:  3  Step:  180 / 484  Cost:  0.23560488  Error %:  0.0634\n",
            "Epoch:  3  Step:  210 / 484  Cost:  0.23033103  Error %:  0.0617\n",
            "Epoch:  3  Step:  240 / 484  Cost:  0.20404904  Error %:  0.0572\n",
            "Epoch:  3  Step:  270 / 484  Cost:  0.19707988  Error %:  0.0588\n",
            "Epoch:  3  Step:  300 / 484  Cost:  0.19830664  Error %:  0.0616\n",
            "Epoch:  3  Step:  330 / 484  Cost:  0.20958003  Error %:  0.0659\n",
            "Epoch:  3  Step:  360 / 484  Cost:  0.17506006  Error %:  0.0521\n"
          ],
          "name": "stdout"
        },
        {
          "output_type": "display_data",
          "data": {
            "image/png": "[encoded data removed]",
            "text/plain": [
              "<Figure size 432x288 with 1 Axes>"
            ]
          },
          "metadata": {
            "tags": []
          }
        }
      ]
    }
  ]
}