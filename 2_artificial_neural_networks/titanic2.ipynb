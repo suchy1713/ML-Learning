{
  "nbformat": 4,
  "nbformat_minor": 0,
  "metadata": {
    "colab": {
      "name": "titanic2.ipynb",
      "provenance": [],
      "collapsed_sections": []
    },
    "kernelspec": {
      "name": "python3",
      "display_name": "Python 3"
    }
  },
  "cells": [
    {
      "cell_type": "code",
      "metadata": {
        "id": "YV_R_6cR12fA",
        "colab_type": "code",
        "outputId": "49cb45fa-b15b-4c56-8030-d23c064f2fb7",
        "colab": {
          "base_uri": "https://localhost:8080/",
          "height": 34
        }
      },
      "source": [
        "from google.colab import drive \n",
        "from sklearn.preprocessing import StandardScaler\n",
        "drive.mount('/content/gdrive')\n",
        "\n",
        "import pandas as pd\n",
        "pd.set_option('display.max_columns', 500)\n",
        "import re\n",
        "\n",
        "def get_title(name):\n",
        "  title = re.search('([A-Za-z]+)\\.', name)\n",
        "\n",
        "  if title:\n",
        "    return title.group(1)\n",
        "  return '' \n",
        "\n",
        "def preprocess(name):\n",
        "  df = pd.read_csv(name)\n",
        "\n",
        "  #replace NaNs\n",
        "  age_median = df['Age'].median()\n",
        "  df['Age'].fillna(age_median, inplace=True)\n",
        "  fare_median = df['Fare'].median()\n",
        "  df['Fare'].fillna(fare_median, inplace=True)\n",
        "  df = df.dropna(subset=['Embarked'])\n",
        "  \n",
        "  #Add new features\n",
        "  df['Family_Size'] = df['SibSp']+df['Parch']\n",
        "  df['Has_Cabin'] = df['Cabin'].map(lambda x: 0 if pd.isnull(x) else 1)\n",
        "  df['Title'] = df['Name'].map(lambda x: get_title(x))\n",
        "  df['Title'] =df['Title'].replace(['Dr', 'Rev', 'Col', 'Major', 'Mlle', 'Capt', 'Don', 'Jonkheer', 'Mme', 'Countess', 'Ms', 'Lady', 'Sir', 'Dona'], 'Rare')\n",
        "\n",
        "  #Deal with categorical vars\n",
        "  df = pd.get_dummies(df, columns=['Sex', 'Embarked', 'Pclass', 'Title'], drop_first=True)\n",
        "\n",
        "  #Normalize continuous vars\n",
        "  scaler = StandardScaler()\n",
        "  df['Fare'] = scaler.fit_transform(df[['Fare']].values.astype(float))\n",
        "  df['Age'] = scaler.fit_transform(df[['Age']].values.astype(float))\n",
        "\n",
        "  ids = df['PassengerId'].values\n",
        "  df.drop(['PassengerId', 'SibSp','Parch','Ticket', 'Cabin', 'Name'], axis=1, inplace=True)\n",
        "\n",
        "  return df, ids"
      ],
      "execution_count": 0,
      "outputs": [
        {
          "output_type": "stream",
          "text": [
            "Drive already mounted at /content/gdrive; to attempt to forcibly remount, call drive.mount(\"/content/gdrive\", force_remount=True).\n"
          ],
          "name": "stdout"
        }
      ]
    },
    {
      "cell_type": "code",
      "metadata": {
        "id": "Kt7ZglF416ah",
        "colab_type": "code",
        "outputId": "3dc5a246-c87c-4463-ef6f-c6caf75c9377",
        "colab": {
          "base_uri": "https://localhost:8080/",
          "height": 238
        }
      },
      "source": [
        "import numpy as np\n",
        "\n",
        "df, _ = preprocess('gdrive/My Drive/train.csv')\n",
        "data = df.values\n",
        "\n",
        "print(df.head())\n",
        "\n",
        "Y = data[:, 0].astype(int)\n",
        "X = data[:, 1:]\n",
        "\n",
        "df_test, ids = preprocess('gdrive/My Drive/test.csv')\n",
        "X_kaggle_test = df_test.values"
      ],
      "execution_count": 0,
      "outputs": [
        {
          "output_type": "stream",
          "text": [
            "   Survived       Age      Fare  Family_Size  Has_Cabin  Sex_male  Embarked_Q  \\\n",
            "0         0 -0.563674 -0.500240            1          0         1           0   \n",
            "1         1  0.669217  0.788947            1          1         0           0   \n",
            "2         1 -0.255451 -0.486650            0          0         0           0   \n",
            "3         1  0.438050  0.422861            1          1         0           0   \n",
            "4         0  0.438050 -0.484133            0          0         1           0   \n",
            "\n",
            "   Embarked_S  Pclass_2  Pclass_3  Title_Miss  Title_Mr  Title_Mrs  Title_Rare  \n",
            "0           1         0         1           0         1          0           0  \n",
            "1           0         0         0           0         0          1           0  \n",
            "2           1         0         1           1         0          0           0  \n",
            "3           1         0         0           0         0          1           0  \n",
            "4           1         0         1           0         1          0           0  \n"
          ],
          "name": "stdout"
        }
      ]
    },
    {
      "cell_type": "code",
      "metadata": {
        "id": "huQQMb2J1_u9",
        "colab_type": "code",
        "outputId": "cf1570b7-c3e0-46d9-c2b9-72687d7caa7b",
        "colab": {
          "base_uri": "https://localhost:8080/",
          "height": 34
        }
      },
      "source": [
        "from sklearn.neural_network import MLPClassifier\n",
        "from sklearn.model_selection import train_test_split, cross_val_score\n",
        "from sklearn.utils import shuffle\n",
        "\n",
        "X, Y = shuffle(X, Y)\n",
        "\n",
        "brain = MLPClassifier(hidden_layer_sizes=(4, 7),\n",
        "                      learning_rate_init=1e-3,\n",
        "                      max_iter=100000,\n",
        "                      activation='tanh')\n",
        "\n",
        "brain.fit(X, Y)\n",
        "preds = brain.predict(X_kaggle_test)\n",
        "result = np.concatenate((np.array([ids]).T, np.array([preds]).T), axis=1)\n",
        "np.savetxt(\"gdrive/My Drive/result.csv\", result, delimiter=\",\", fmt='%s')\n",
        "\n",
        "print(\"Cross validation score: \", np.mean(cross_val_score(brain, X, Y, cv=10,verbose=0)))"
      ],
      "execution_count": 0,
      "outputs": [
        {
          "output_type": "stream",
          "text": [
            "Cross validation score:  0.8200842696629213\n"
          ],
          "name": "stdout"
        }
      ]
    }
  ]
}