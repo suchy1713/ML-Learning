{
  "nbformat": 4,
  "nbformat_minor": 0,
  "metadata": {
    "colab": {
      "name": "whats_cooking.ipynb",
      "provenance": [],
      "collapsed_sections": [],
      "machine_shape": "hm"
    },
    "kernelspec": {
      "name": "python3",
      "display_name": "Python 3"
    },
    "accelerator": "GPU"
  },
  "cells": [
    {
      "cell_type": "code",
      "metadata": {
        "id": "_QKVXH6hUZzV",
        "colab_type": "code",
        "outputId": "0f57471e-41dc-4e78-ccaf-36e2d35f3c4c",
        "colab": {
          "base_uri": "https://localhost:8080/",
          "height": 263
        }
      },
      "source": [
        "import pandas as pd\n",
        "import numpy as np\n",
        "from sklearn.preprocessing import MultiLabelBinarizer\n",
        "from sklearn.utils import shuffle\n",
        "from sklearn.model_selection import train_test_split\n",
        "from google.colab import drive\n",
        "\n",
        "#pd.set_option('display.max_columns', 500)\n",
        "drive.mount('/content/gdrive')\n",
        "\n",
        "mlb = MultiLabelBinarizer()\n",
        "\n",
        "df = pd.read_json('gdrive/My Drive/csvs/cooking/train.json')\n",
        "df_test = pd.read_json('gdrive/My Drive/csvs/cooking/test.json')\n",
        "df_all = pd.concat([df_test, df])\n",
        "h = df_test.shape[0]\n",
        "t = df.shape[0]\n",
        "\n",
        "df_dummies = pd.DataFrame(mlb.fit_transform(df_all['ingredients']), columns=mlb.classes_, index=df_all.index)\n",
        "df_all = pd.concat([df_all['id'], df_all['cuisine'], df_dummies], axis=1)\n",
        "\n",
        "df_test = df_all.head(h)\n",
        "df = df_all.tail(t)\n",
        "df_y = pd.get_dummies(df['cuisine'], columns=['cuisine'])\n",
        "\n",
        "df = df.drop(['id', 'cuisine'], axis=1)\n",
        "ids = df_test['id']\n",
        "df_test = df_test.drop(['id', 'cuisine'], axis=1)\n",
        "\n",
        "X, Y = df.values, df_y.values\n",
        "X, Y = shuffle(X, Y)\n",
        "X_train, X_test, Y_train, Y_test = train_test_split(X, Y, test_size=0.33)\n",
        "X_kaggle = df_test.values"
      ],
      "execution_count": 0,
      "outputs": [
        {
          "output_type": "stream",
          "text": [
            "Go to this URL in a browser: https://accounts.google.com/o/oauth2/auth?client_id=947318989803-6bn6qk8qdgf4n4g3pfee6491hc0brc4i.apps.googleusercontent.com&redirect_uri=urn%3aietf%3awg%3aoauth%3a2.0%3aoob&response_type=code&scope=email%20https%3a%2f%2fwww.googleapis.com%2fauth%2fdocs.test%20https%3a%2f%2fwww.googleapis.com%2fauth%2fdrive%20https%3a%2f%2fwww.googleapis.com%2fauth%2fdrive.photos.readonly%20https%3a%2f%2fwww.googleapis.com%2fauth%2fpeopleapi.readonly\n",
            "\n",
            "Enter your authorization code:\n",
            "··········\n",
            "Mounted at /content/gdrive\n"
          ],
          "name": "stdout"
        },
        {
          "output_type": "stream",
          "text": [
            "/usr/local/lib/python3.6/dist-packages/ipykernel_launcher.py:15: FutureWarning: Sorting because non-concatenation axis is not aligned. A future version\n",
            "of pandas will change to not sort by default.\n",
            "\n",
            "To accept the future behavior, pass 'sort=False'.\n",
            "\n",
            "To retain the current behavior and silence the warning, pass 'sort=True'.\n",
            "\n",
            "  from ipykernel import kernelapp as app\n"
          ],
          "name": "stderr"
        }
      ]
    },
    {
      "cell_type": "code",
      "metadata": {
        "id": "a0p1UfkkWv1V",
        "colab_type": "code",
        "outputId": "fa284674-dc9f-4603-e40e-b47bfb32e468",
        "colab": {
          "base_uri": "https://localhost:8080/",
          "height": 712
        }
      },
      "source": [
        "from ann_theano_model import ANN\n",
        "\n",
        "model = ANN([200, 200])\n",
        "model.fit(\n",
        "    X_train, Y_train, X_test, Y_test,\n",
        "    learning_rate = 1e-3,\n",
        "    reg = 1e-4,\n",
        "    epochs= 40,\n",
        "    batch_size = 3331,\n",
        "    print_period = 1,\n",
        "    decay=0.995\n",
        ")\n",
        "model.score(X_test, Y_test)"
      ],
      "execution_count": 0,
      "outputs": [
        {
          "output_type": "stream",
          "text": [
            "Epoch  0 / 40 : Cost:  8764.510381378863  Classification rate:  0.2005942404388237\n",
            "Epoch  1 / 40 : Cost:  9253.338016256832  Classification rate:  0.16021636446746915\n",
            "Epoch  2 / 40 : Cost:  8909.824274829243  Classification rate:  0.19853725430443395\n",
            "Epoch  3 / 40 : Cost:  8654.513848590774  Classification rate:  0.2715221697394484\n",
            "Epoch  4 / 40 : Cost:  6937.913444129421  Classification rate:  0.4356239524607649\n",
            "Epoch  5 / 40 : Cost:  8297.990393988632  Classification rate:  0.2288587536187719\n",
            "Epoch  6 / 40 : Cost:  5599.10816516448  Classification rate:  0.504647264970288\n",
            "Epoch  7 / 40 : Cost:  5010.92599141948  Classification rate:  0.5374828584488801\n",
            "Epoch  8 / 40 : Cost:  4849.370258232507  Classification rate:  0.5577479811062014\n",
            "Epoch  9 / 40 : Cost:  4313.69504925534  Classification rate:  0.5726039920767941\n",
            "Epoch  10 / 40 : Cost:  4311.384996433059  Classification rate:  0.5752704555843364\n",
            "Epoch  11 / 40 : Cost:  3723.4540196606677  Classification rate:  0.6006399512418101\n",
            "Epoch  12 / 40 : Cost:  4362.864875589007  Classification rate:  0.537330489105592\n",
            "Epoch  13 / 40 : Cost:  3312.0959590135185  Classification rate:  0.6291330184366906\n",
            "Epoch  14 / 40 : Cost:  3317.9273997739156  Classification rate:  0.6380466250190462\n",
            "Epoch  15 / 40 : Cost:  2677.5419762223223  Classification rate:  0.6506170958403169\n",
            "Epoch  16 / 40 : Cost:  2615.5434009126193  Classification rate:  0.6429986286759104\n",
            "Epoch  17 / 40 : Cost:  2675.670849725398  Classification rate:  0.6767484382142313\n",
            "Epoch  18 / 40 : Cost:  2291.167936216183  Classification rate:  0.6618162425719946\n"
          ],
          "name": "stdout"
        },
        {
          "output_type": "error",
          "ename": "KeyboardInterrupt",
          "evalue": "ignored",
          "traceback": [
            "\u001b[0;31m---------------------------------------------------------------------------\u001b[0m",
            "\u001b[0;31mKeyboardInterrupt\u001b[0m                         Traceback (most recent call last)",
            "\u001b[0;32m<ipython-input-41-7a33ee87f4e1>\u001b[0m in \u001b[0;36m<module>\u001b[0;34m()\u001b[0m\n\u001b[1;32m      9\u001b[0m     \u001b[0mbatch_size\u001b[0m \u001b[0;34m=\u001b[0m \u001b[0;36m3331\u001b[0m\u001b[0;34m,\u001b[0m\u001b[0;34m\u001b[0m\u001b[0;34m\u001b[0m\u001b[0m\n\u001b[1;32m     10\u001b[0m     \u001b[0mprint_period\u001b[0m \u001b[0;34m=\u001b[0m \u001b[0;36m1\u001b[0m\u001b[0;34m,\u001b[0m\u001b[0;34m\u001b[0m\u001b[0;34m\u001b[0m\u001b[0m\n\u001b[0;32m---> 11\u001b[0;31m     \u001b[0mdecay\u001b[0m\u001b[0;34m=\u001b[0m\u001b[0;36m0.995\u001b[0m\u001b[0;34m\u001b[0m\u001b[0;34m\u001b[0m\u001b[0m\n\u001b[0m\u001b[1;32m     12\u001b[0m )\n\u001b[1;32m     13\u001b[0m \u001b[0mmodel\u001b[0m\u001b[0;34m.\u001b[0m\u001b[0mscore\u001b[0m\u001b[0;34m(\u001b[0m\u001b[0mX_test\u001b[0m\u001b[0;34m,\u001b[0m \u001b[0mY_test\u001b[0m\u001b[0;34m)\u001b[0m\u001b[0;34m\u001b[0m\u001b[0;34m\u001b[0m\u001b[0m\n",
            "\u001b[0;32m/content/ann_theano_model.py\u001b[0m in \u001b[0;36mfit\u001b[0;34m(self, X, Y, X_test, Y_test, activation, learning_rate, mu, reg, epochs, batch_size, print_period, show_fig, decay, eps)\u001b[0m\n\u001b[1;32m    105\u001b[0m                 \u001b[0mY_batch\u001b[0m \u001b[0;34m=\u001b[0m \u001b[0mY\u001b[0m\u001b[0;34m[\u001b[0m\u001b[0mj\u001b[0m\u001b[0;34m*\u001b[0m\u001b[0mbatch_size\u001b[0m\u001b[0;34m:\u001b[0m\u001b[0;34m(\u001b[0m\u001b[0mj\u001b[0m\u001b[0;34m*\u001b[0m\u001b[0mbatch_size\u001b[0m \u001b[0;34m+\u001b[0m \u001b[0mbatch_size\u001b[0m\u001b[0;34m)\u001b[0m\u001b[0;34m,\u001b[0m\u001b[0;34m]\u001b[0m\u001b[0;34m\u001b[0m\u001b[0;34m\u001b[0m\u001b[0m\n\u001b[1;32m    106\u001b[0m \u001b[0;34m\u001b[0m\u001b[0m\n\u001b[0;32m--> 107\u001b[0;31m                 \u001b[0mc\u001b[0m\u001b[0;34m,\u001b[0m \u001b[0m_\u001b[0m \u001b[0;34m=\u001b[0m \u001b[0mtrain\u001b[0m\u001b[0;34m(\u001b[0m\u001b[0mX_batch\u001b[0m\u001b[0;34m,\u001b[0m \u001b[0mY_batch\u001b[0m\u001b[0;34m)\u001b[0m\u001b[0;34m\u001b[0m\u001b[0;34m\u001b[0m\u001b[0m\n\u001b[0m\u001b[1;32m    108\u001b[0m \u001b[0;34m\u001b[0m\u001b[0m\n\u001b[1;32m    109\u001b[0m             \u001b[0mcosts\u001b[0m\u001b[0;34m.\u001b[0m\u001b[0mappend\u001b[0m\u001b[0;34m(\u001b[0m\u001b[0mc\u001b[0m\u001b[0;34m)\u001b[0m\u001b[0;34m\u001b[0m\u001b[0;34m\u001b[0m\u001b[0m\n",
            "\u001b[0;32m/usr/local/lib/python3.6/dist-packages/theano/compile/function_module.py\u001b[0m in \u001b[0;36m__call__\u001b[0;34m(self, *args, **kwargs)\u001b[0m\n\u001b[1;32m    901\u001b[0m         \u001b[0;32mtry\u001b[0m\u001b[0;34m:\u001b[0m\u001b[0;34m\u001b[0m\u001b[0;34m\u001b[0m\u001b[0m\n\u001b[1;32m    902\u001b[0m             \u001b[0moutputs\u001b[0m \u001b[0;34m=\u001b[0m\u001b[0;31m\\\u001b[0m\u001b[0;34m\u001b[0m\u001b[0;34m\u001b[0m\u001b[0m\n\u001b[0;32m--> 903\u001b[0;31m                 \u001b[0mself\u001b[0m\u001b[0;34m.\u001b[0m\u001b[0mfn\u001b[0m\u001b[0;34m(\u001b[0m\u001b[0;34m)\u001b[0m \u001b[0;32mif\u001b[0m \u001b[0moutput_subset\u001b[0m \u001b[0;32mis\u001b[0m \u001b[0;32mNone\u001b[0m \u001b[0;32melse\u001b[0m\u001b[0;31m\\\u001b[0m\u001b[0;34m\u001b[0m\u001b[0;34m\u001b[0m\u001b[0m\n\u001b[0m\u001b[1;32m    904\u001b[0m                 \u001b[0mself\u001b[0m\u001b[0;34m.\u001b[0m\u001b[0mfn\u001b[0m\u001b[0;34m(\u001b[0m\u001b[0moutput_subset\u001b[0m\u001b[0;34m=\u001b[0m\u001b[0moutput_subset\u001b[0m\u001b[0;34m)\u001b[0m\u001b[0;34m\u001b[0m\u001b[0;34m\u001b[0m\u001b[0m\n\u001b[1;32m    905\u001b[0m         \u001b[0;32mexcept\u001b[0m \u001b[0mException\u001b[0m\u001b[0;34m:\u001b[0m\u001b[0;34m\u001b[0m\u001b[0;34m\u001b[0m\u001b[0m\n",
            "\u001b[0;31mKeyboardInterrupt\u001b[0m: "
          ]
        }
      ]
    },
    {
      "cell_type": "code",
      "metadata": {
        "id": "yfNOBEF5ziiX",
        "colab_type": "code",
        "colab": {}
      },
      "source": [
        "preds = model.predict(X_kaggle)\n",
        "cuisines = df_y.columns.values\n",
        "pred_to_cuisine = np.vectorize(lambda x: cuisines[x])\n",
        "preds = pred_to_cuisine(preds)\n",
        "\n",
        "data = np.concatenate((np.array([ids]).T, np.array([preds]).T), axis=1)\n",
        "result = pd.DataFrame(data, columns = ['id', 'cuisine'])\n",
        "result.to_csv('gdrive/My Drive/cooking_result.csv', index=False)"
      ],
      "execution_count": 0,
      "outputs": []
    }
  ]
}