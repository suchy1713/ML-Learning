{
  "nbformat": 4,
  "nbformat_minor": 0,
  "metadata": {
    "colab": {
      "name": "titanic.ipynb",
      "provenance": [],
      "collapsed_sections": []
    },
    "kernelspec": {
      "name": "python3",
      "display_name": "Python 3"
    },
    "accelerator": "GPU"
  },
  "cells": [
    {
      "cell_type": "code",
      "metadata": {
        "id": "sdJ8dwpbSiio",
        "colab_type": "code",
        "outputId": "81b6ea2c-f235-48bf-fb7a-cecfe354f55e",
        "colab": {
          "base_uri": "https://localhost:8080/",
          "height": 34
        }
      },
      "source": [
        "from google.colab import drive \n",
        "drive.mount('/content/gdrive')\n",
        "\n",
        "import pandas as pd\n",
        "import string\n",
        "\n",
        "def substrings_in_string(big_string, substrings):\n",
        "  for substring in substrings:\n",
        "    if str.find(str(big_string), str(substring)) != -1:\n",
        "      return substring\n",
        "  return np.nan\n",
        "\n",
        "def preprocess(name):\n",
        "  df = pd.read_csv(name)\n",
        "\n",
        "  age_median = df['Age'].median()\n",
        "  df['Age'].fillna(age_median, inplace=True)\n",
        "  fare_median = df['Fare'].median()\n",
        "  df['Fare'].fillna(fare_median, inplace=True)\n",
        "  df = df.dropna(subset=['Embarked'])\n",
        "\n",
        "  df = pd.get_dummies(df, columns=['Sex', 'Embarked'])\n",
        "  \n",
        "  df['Family_Size'] = df['SibSp']+df['Parch']\n",
        "  df['Deck']=df['Cabin'].map(lambda x: substrings_in_string(x, ['A', 'B', 'C', 'D', 'E', 'F', 'T', 'G', 'Unknown']))\n",
        "  \n",
        "  df = pd.get_dummies(df, columns=['Deck'])\n",
        "\n",
        "  return df"
      ],
      "execution_count": 0,
      "outputs": [
        {
          "output_type": "stream",
          "text": [
            "Drive already mounted at /content/gdrive; to attempt to forcibly remount, call drive.mount(\"/content/gdrive\", force_remount=True).\n"
          ],
          "name": "stdout"
        }
      ]
    },
    {
      "cell_type": "code",
      "metadata": {
        "id": "f8R8tKUOfoDF",
        "colab_type": "code",
        "colab": {}
      },
      "source": [
        "import numpy as np\n",
        "\n",
        "df = preprocess('gdrive/My Drive/train.csv')\n",
        "data = df.values\n",
        "\n",
        "Y = data[:, 1].astype(int)\n",
        "X = data[:, [2, 4, 8, 10, 12, 13, 15, 16, 17, 18, 19, 20, 21, 22]]\n",
        "\n",
        "\n",
        "df_test = preprocess('gdrive/My Drive/test.csv')\n",
        "data_test = df_test.values\n",
        "\n",
        "X_test = data_test[:, [1, 3, 7, 9, 11, 12, 14, 15, 16, 17, 18, 19, 20, 21]]"
      ],
      "execution_count": 0,
      "outputs": []
    },
    {
      "cell_type": "code",
      "metadata": {
        "id": "3DqESp_Omdm7",
        "colab_type": "code",
        "colab": {}
      },
      "source": [
        "from sklearn.ensemble import RandomForestClassifier\n",
        "\n",
        "brain = RandomForestClassifier(n_estimators=10000, max_depth=4)\n",
        "brain.fit(X, Y)\n",
        "\n",
        "preds = brain.predict(X_test)\n",
        "result = np.concatenate((np.array([data_test[:, 0]]).T, np.array([preds]).T), axis=1)\n",
        "\n",
        "np.savetxt(\"gdrive/My Drive/result.csv\", result, delimiter=\",\", fmt='%s')"
      ],
      "execution_count": 0,
      "outputs": []
    }
  ]
}